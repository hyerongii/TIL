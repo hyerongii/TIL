{
 "cells": [
  {
   "attachments": {},
   "cell_type": "markdown",
   "metadata": {},
   "source": [
    "# Data Types"
   ]
  },
  {
   "attachments": {},
   "cell_type": "markdown",
   "metadata": {},
   "source": [
    "## Data Types\n",
    "### 개요\n",
    "- 값의 종류와 그 값에 적용 가능한 연산과 동작을 결정하는 속성\n"
   ]
  },
  {
   "attachments": {},
   "cell_type": "markdown",
   "metadata": {},
   "source": [
    "#### 데이터 타입 분류\n",
    "- Numeric Types\n",
    "    - int (정수), float (실수), complex (복소수)\n",
    "- Text Sequence Type\n",
    "    - str (문자열)\n",
    "- Sequence Types\n",
    "    - list, tuple, range\n",
    "- Non-sequence Types\n",
    "    -  set, dict\n",
    "- 기타\n",
    "    - Boolean, None, Functions"
   ]
  },
  {
   "attachments": {},
   "cell_type": "markdown",
   "metadata": {},
   "source": [
    "#### 데이터 타입이 필요한 이유\n",
    "- 값들을 구분하고, 어떻게 다뤄야 하는지를 알 수 있음\n",
    "- 요리 재료마다 특정한 도구가 필요하듯이 각 데이터 타입 값들도 각자에게 적합한 도구를 가짐\n",
    "- 타입을 명시적으로 지정하면 코드를 읽는 사람이 변수의 의도를 더 쉽게 이해할 수 있고, 잘못된 데이터 타입으로 인한 오류를 미리 예방"
   ]
  },
  {
   "cell_type": "markdown",
   "metadata": {},
   "source": [
    "## Numeric Types\n",
    "### int `정수 자료형`\n",
    "- 정수를 표현하는 자료형\n",
    "\n",
    "```python\n",
    "a = 10\n",
    "b = 0\n",
    "c = -5\n",
    "```"
   ]
  },
  {
   "attachments": {},
   "cell_type": "markdown",
   "metadata": {},
   "source": [
    "#### 진수 표현\n",
    "- 2진수(binary) : `0b`\n",
    "- 8진수(octal) : `0o`\n",
    "- 16진수(hexadecimal) : `0x`"
   ]
  },
  {
   "attachments": {},
   "cell_type": "markdown",
   "metadata": {},
   "source": [
    "#### 실행 해보기"
   ]
  },
  {
   "cell_type": "code",
   "execution_count": 1,
   "metadata": {},
   "outputs": [
    {
     "name": "stdout",
     "output_type": "stream",
     "text": [
      "2\n",
      "24\n",
      "16\n"
     ]
    }
   ],
   "source": [
    "# 실행 해보기 1\n",
    "print(0b10)\n",
    "\n",
    "print(0o30)\n",
    "\n",
    "print(0x10)"
   ]
  },
  {
   "cell_type": "markdown",
   "metadata": {},
   "source": [
    "### float `실수 자료형`\n",
    "- 실수를 표현하는 자료형\n",
    "```python\n",
    "d = 3.14\n",
    "e = -2.7\n",
    "```\n",
    "- 프로그래밍 언어에서 float는 실수에 대한 <span style='color:crimson;'>근삿값</span>"
   ]
  },
  {
   "attachments": {},
   "cell_type": "markdown",
   "metadata": {},
   "source": [
    "#### 유한 정밀도\n",
    "- 컴퓨터 메모리 용량이 한정돼 있고 한 숫자에 대해 저장하는 용량이 제한 됨\n",
    "- 0.6666666666666666과 1.6666666666666667은 제한된 양의 메모리에 저장할 수 있는 2/3과 5/3에 **가장 가까운 값**\n",
    "\n",
    "```python\n",
    "# 0.6666666666666666\n",
    "print(2 / 3)\n",
    "\n",
    "# 1.6666666666666667\n",
    "print(5 / 3)\n",
    "```"
   ]
  },
  {
   "cell_type": "markdown",
   "metadata": {},
   "source": [
    "#### 실수 연산 시 주의사항\n",
    "- 컴퓨터는 2진수를 사용, 사람은 10진법을 사용\n",
    "- 이때 10진수 0.1은 2진수로 표현하면 0.0001100110011001100110... - 같이 무한대로 반복\n",
    "- 무한대 숫자를 그대로 저장할 수 없어서 사람이 사용하는 10진법의 근사값만 표시\n",
    "- 0.1의 경우 3602879701896397 / 2 ** 55 이며 0.1에 가깝지만 정확히 동일하지는 않음\n",
    "- 이런 과정에서 예상치 못한 결과가 나타남\n",
    "- 이런 증상을 <span style='color:crimson;'>Floating point rounding error 부동소수점 에러</span>라고 함\n",
    "\n",
    "##### 부동소수점 에러\n",
    "- 컴퓨터가 실수를 표현하는 방식으로 인해 발생하는 작은 오차\n",
    "- 원인\n",
    "  - 실수를 2진수로 변환하는 과정에서 발생하는 근사치 표현"
   ]
  },
  {
   "cell_type": "markdown",
   "metadata": {},
   "source": [
    "##### 부동소수점 에러 해결책\n",
    "- 대표적으로 `decimal` 모듈을 사용해 부동소수점 연산의 정확성을 보장하는 방법\n",
    "- 이외에도 다양한 해결 방법이 존재\n",
    "\n",
    "\n",
    "```python\n",
    "# 해결 전\n",
    "a = 3.2 - 3.1\n",
    "b = 1.2 - 1.1\n",
    "print(a)  # 0.10000000000000009\n",
    "print(b)  # 0.09999999999999987\n",
    "print(a == b)  # False\n",
    "\n",
    "# 해결 후\n",
    "from decimal import Decimal\n",
    "\n",
    "a = Decimal('3.2') - Decimal('3.1')\n",
    "b = Decimal('1.2') - Decimal('1.1')\n",
    "\n",
    "print(a)  # 0.1\n",
    "print(b)  # 0.1\n",
    "print(a == b)  # True\n",
    "```"
   ]
  },
  {
   "attachments": {},
   "cell_type": "markdown",
   "metadata": {},
   "source": [
    "#### 지수 표현 방식\n",
    "- `e` 또는 `E`를 사용한 지수 표현\n",
    "\n",
    "```python \n",
    "# 314 ∗ 0.01\n",
    "number = 314e-2\n",
    "\n",
    "# 3.14\n",
    "print(number)\n",
    "```"
   ]
  },
  {
   "attachments": {},
   "cell_type": "markdown",
   "metadata": {},
   "source": [
    "## Sequence Types\n",
    "### Sequence Types\n",
    "- **여러 개의 값**들을 <span style='color:crimson;'>순서대로 나열</span>하여 저장하는 자료형\n",
    "(str, list, tuple, range)\n",
    "\n",
    "#### Sequence Type 특징\n",
    "1. 순서(Sequence)\n",
    "    - 값들이 순서대로 저장 (정렬 X)\n",
    "2. 인덱싱(Indexing)\n",
    "    - 각 값에 고유한 인덱스(번호)를 가지고 있으며, 인덱스를 사용하여 특정 위치의 값을 선택하거나 수정할 수 있음\n",
    "3. 슬라이싱(Slicing)\n",
    "    - 인덱스 범위를 조절해 부분적인 값을 추출할 수 있음\n",
    "4. 길이(Length)\n",
    "    - len() 함수를 사용하여 저장된 값의 개수(길이)를 구할 수 있음\n",
    "5. 반복(Iteration)\n",
    "    - 반목문을 사용하여 저장된 값들을 반복적으로 처리할 수 있음"
   ]
  },
  {
   "attachments": {},
   "cell_type": "markdown",
   "metadata": {},
   "source": [
    "### str `문자열` \n",
    "- 문자들의 순서가 있는 변경 불가능한 시퀀스 자료형\n",
    "\n",
    "#### 문자열 표현\n",
    "- 문자열은 단일 문자나 여러 문자의 조합으로 이루어짐 \n",
    "- 작은따옴표(`'`) 또는 큰따옴표(`\"`) 감싸서 표현\n",
    "\n",
    "```python\n",
    "# Hello, World!\n",
    "print('Hello, World!') \n",
    "\n",
    "# str\n",
    "print(type('Hello, World!')) \n",
    "```"
   ]
  },
  {
   "attachments": {},
   "cell_type": "markdown",
   "metadata": {},
   "source": [
    "#### 중첩 따옴표\n",
    "- 따옴표 안에 따옴표를 표현할 경우 \n",
    "    - 작은따옴표가 들어 있는 경우는 큰따옴표로 문자열 생성\n",
    "    - 큰따옴표가 들어 있는 경우는 작은따옴표로 문자열 생성\n",
    "```python\n",
    "# 문자열 안에 '작은따옴표'를 사용하려면 큰따옴표로 묶는다.\n",
    "print(\"문자열 안에 '작은따옴표'를 사용하려면 큰따옴표로 묶는다.\")\n",
    "\n",
    "# 문자열 안에 \"큰따옴표\"를 사용하려면 작은 따옴표로 묶는다.\n",
    "print('문자열 안에 \"큰따옴표\"를 사용하려면 작은 따옴표로 묶는다.')\n",
    "```"
   ]
  },
  {
   "attachments": {},
   "cell_type": "markdown",
   "metadata": {},
   "source": [
    "#### Escape sequence\n",
    "- 역슬래시(backslash, `/`)뒤에 특정 문자가 와서 특수한 기능을 하는 문자 조합\n",
    "- 파이썬의 일반적인 문법 규칙을 잠시 탈출한다는 의미\n",
    "\n",
    "|     예약   문자    \t|      내용(의미)    \t|\n",
    "|:------------------:\t|:------------------:\t|\n",
    "|          `\\n`        \t|      줄   바꿈     \t|\n",
    "|          `\\t`        \t|          탭        \t|\n",
    "|          `\\\\`        \t|       백슬래시     \t|\n",
    "|          `\\’`        \t|     작은 따옴표    \t|\n",
    "|          `\\\"`        \t|     큰   따옴표    \t|"
   ]
  },
  {
   "attachments": {},
   "cell_type": "markdown",
   "metadata": {},
   "source": [
    "##### Escape sequence 예시\n",
    "```python\n",
    "# 철수야 '안녕'\n",
    "print('철수야 \\'안녕\\'')\n",
    "\n",
    "'''\n",
    "이 다음은 엔터 \n",
    "입니다.\n",
    "'''\n",
    "print('이 다음은 엔터\\n입니다.')\n",
    "```"
   ]
  },
  {
   "attachments": {},
   "cell_type": "markdown",
   "metadata": {},
   "source": [
    "#### String Interpolation\n",
    "- 문자열 내에 변수나 표현식을 삽입하는 방법\n",
    "\n",
    "##### <span style='color:crimson;'>f-string</span> - 매우 중요!!!\n",
    "- 문자열에 `f` 또는 `F` 접두어를 붙이고 표현식을 `{expression}`로 작성하는 문법\n",
    "- 문자열에 파이썬 표현식의 값을 삽입할 수 있음\n",
    "\n",
    "```python \n",
    "bugs = 'roaches'\n",
    "counts = 13\n",
    "area = 'living room'\n",
    "\n",
    "# Debugging roaches 13 living room\n",
    "print(f'Debugging {bugs} {counts} {area}')\n",
    "```"
   ]
  },
  {
   "attachments": {},
   "cell_type": "markdown",
   "metadata": {},
   "source": [
    "#### 문자열의 시퀀스 특징\n",
    "```python\n",
    "my_str = 'hello'\n",
    "\n",
    "# 인덱싱\n",
    "print(my_str[1])  # e\n",
    "\n",
    "# 슬라이싱\n",
    "print(my_str[2:4])  # ll\n",
    "\n",
    "# 길이\n",
    "print(len(my_str))  # 5\n",
    "```"
   ]
  },
  {
   "attachments": {
    "image.png": {
     "image/png": "[encoded data removed]"
    }
   },
   "cell_type": "markdown",
   "metadata": {},
   "source": [
    "##### 인덱스 `index`\n",
    "- 시퀀스 내의 값들에 대한 고유한 번호로, 각 값의 위치를 식별하는 데 사용되는 숫자\n",
    "\n",
    "##### index 예시\n",
    "\n",
    "|         \"    \t|      h    \t|      e    \t|      l    \t|      l    \t|      o    \t|     \"    \t|\n",
    "|-------------:\t|:---------:\t|:---------:\t|:---------:\t|:---------:\t|:---------:\t|----------\t|\n",
    "|     index    \t|      0    \t|      1    \t|      2    \t|      3    \t|      4    \t|          \t|\n",
    "|     index    \t|     -5    \t|     -4    \t|     -3    \t|     -2    \t|     -1    \t|          \t|\n",
    "\n",
    "\n",
    "마이너스는 반대 +1!!!\n",
    "\n",
    "![image.png](attachment:image.png)"
   ]
  },
  {
   "attachments": {},
   "cell_type": "markdown",
   "metadata": {},
   "source": [
    "\n",
    "##### 슬라이싱 `slicing`\n",
    "시퀀스의 일부분을 선택하여 추출하는 작업\n",
    "\n",
    "-> 시작 인덱스와 끝 인덱스를 지정하여 해당 범위의 값을 포함하는 새로운 시퀀스를 생성\n",
    "\n",
    "##### slicing 예시\n",
    "```python\n",
    "my_str = 'hello'\n",
    "my_str[2:4]\n",
    "```\n",
    "|         \"    \t|      h    \t|      e    \t|      <span style='color:red;'>l</span>    \t|      <span style='color:red;'>l</span>    \t|      o    \t|     \"    \t|\n",
    "|-------------:\t|:---------:\t|:---------:\t|:---------:\t|:---------:\t|:---------:\t|----------\t|\n",
    "|     index    \t|      0    \t|      1    \t|      <span style='color:yellow;'>2</span>    \t|      <span style='color:yellow;'>3</span>    \t|      4    \t|          \t|\n",
    "|     index    \t|     -5    \t|     -4    \t|     -3    \t|     -2    \t|     -1    \t|          \t|\n",
    "\n",
    "\n",
    "```python\n",
    "my_str = 'hello'\n",
    "my_str[:3]\n",
    "```\n",
    "|         \"    \t|      <span style='color:red;'>h</span>    \t|      <span style='color:red;'>e</span>    \t|      <span style='color:red;'>l</span>    \t|      l    \t|      o    \t|     \"    \t|\n",
    "|-------------:\t|:---------:\t|:---------:\t|:---------:\t|:---------:\t|:---------:\t|----------\t|\n",
    "|     index    \t|      <span style='color:yellow;'>0</span>    \t|      <span style='color:yellow;'>1</span>    \t|      <span style='color:yellow;'>2</span>    \t|      3    \t|      4    \t|          \t|\n",
    "|     index    \t|     -5    \t|     -4    \t|     -3    \t|     -2    \t|     -1    \t|          \t|\n",
    "\n",
    "```python\n",
    "my_str = 'hello'\n",
    "my_str[3:]\n",
    "```\n",
    "|         \"    \t|      h    \t|      e    \t|      l    \t|      <span style='color:red;'>l</span>    \t|      <span style='color:red;'>o</span>    \t|     \"    \t|\n",
    "|-------------:\t|:---------:\t|:---------:\t|:---------:\t|:---------:\t|:---------:\t|----------\t|\n",
    "|     index    \t|      0    \t|      1    \t|      2    \t|      <span style='color:yellow;'>3</span>    \t|      <span style='color:yellow;'>4</span>    \t|          \t|\n",
    "|     index    \t|     -5    \t|     -4    \t|     -3    \t|     -2    \t|     -1    \t|          \t|\n",
    "\n",
    "- step을 지정하여 추출\n",
    "```python\n",
    "my_str = 'hello'\n",
    "my_str[0:5:2]\n",
    "```\n",
    "|         \"    \t|      <span style='color:red;'>h</span>    \t|      e    \t|      <span style='color:red;'>l</span>    \t|      l    \t|      <span style='color:red;'>o</span>    \t|     \"    \t|\n",
    "|-------------:\t|:---------:\t|:---------:\t|:---------:\t|:---------:\t|:---------:\t|----------\t|\n",
    "|     index    \t|      <span style='color:yellow;'>0</span>    \t|      1    \t|      <span style='color:yellow;'>2</span>    \t|      3    \t|      <span style='color:yellow;'>4</span>    \t|          \t|\n",
    "|     index    \t|     -5    \t|     -4    \t|     -3    \t|     -2    \t|     -1    \t|          \t|\n",
    "\n",
    "- step이 음수일 경우\n",
    "```python\n",
    "my_str = 'hello'\n",
    "my_str[::-1]\n",
    "```\n",
    "\n",
    "|         \"    \t|      <span style='color:red;'>h</span>    \t|      <span style='color:red;'>e</span>    \t|      <span style='color:red;'>l</span>    \t|      <span style='color:red;'>l</span>    \t|      <span style='color:red;'>o</span>    \t|     \"    \t|\n",
    "|-------------:\t|:---------:\t|:---------:\t|:---------:\t|:---------:\t|:---------:\t|----------\t|\n",
    "|     index    \t|      0    \t|      1    \t|      2    \t|      3    \t|      4    \t|          \t|\n",
    "|     index    \t|     <span style='color:yellow;'>-5</span>    \t|     <span style='color:yellow;'>-4</span>    \t|     <span style='color:yellow;'>-3</span>    \t|     <span style='color:yellow;'>-2</span>    \t|     <span style='color:yellow;'>-1</span>    \t|          \t|"
   ]
  },
  {
   "attachments": {},
   "cell_type": "markdown",
   "metadata": {},
   "source": [
    "#### 문자열은 불변 (변경 불가)\n",
    "```python\n",
    "my_str = 'hello'\n",
    "\n",
    "# TypeError: 'str' object does not support item assignment\n",
    "my_str[1] = 'z'\n",
    "```"
   ]
  },
  {
   "attachments": {},
   "cell_type": "markdown",
   "metadata": {},
   "source": [
    "#### 실행 해보기"
   ]
  },
  {
   "cell_type": "code",
   "execution_count": 4,
   "metadata": {},
   "outputs": [
    {
     "name": "stdout",
     "output_type": "stream",
     "text": [
      "Hello, World!\n",
      "<class 'str'>\n"
     ]
    }
   ],
   "source": [
    "# 실행 해보기 1\n",
    "print('Hello, World!') \n",
    " \n",
    "print(type('Hello, World!')) "
   ]
  },
  {
   "cell_type": "code",
   "execution_count": 3,
   "metadata": {},
   "outputs": [
    {
     "name": "stdout",
     "output_type": "stream",
     "text": [
      "문자열 안에 '작은따옴표'를 사용하려면 큰따옴표로 묶는다.\n",
      "문자열 안에 \"큰따옴표\"를 사용하려면 작은 따옴표로 묶는다.\n"
     ]
    }
   ],
   "source": [
    "# 실행 해보기 2\n",
    "print(\"문자열 안에 '작은따옴표'를 사용하려면 큰따옴표로 묶는다.\")\n",
    "\n",
    "print('문자열 안에 \"큰따옴표\"를 사용하려면 작은 따옴표로 묶는다.')"
   ]
  },
  {
   "cell_type": "code",
   "execution_count": 2,
   "metadata": {},
   "outputs": [
    {
     "name": "stdout",
     "output_type": "stream",
     "text": [
      "철수야 '안녕'\n",
      "이 다음은 엔터\n",
      "입니다.\n"
     ]
    }
   ],
   "source": [
    "# 실행 해보기 3\n",
    "print('철수야 \\'안녕\\'')\n",
    " \n",
    "print('이 다음은 엔터\\n입니다.')"
   ]
  },
  {
   "cell_type": "code",
   "execution_count": 5,
   "metadata": {},
   "outputs": [
    {
     "name": "stdout",
     "output_type": "stream",
     "text": [
      "Debugging roaches 13 living room\n"
     ]
    }
   ],
   "source": [
    "# 실행 해보기 4\n",
    "bugs = 'roaches'\n",
    "counts = 13\n",
    "area = 'living room'\n",
    " \n",
    "print(f'Debugging {bugs} {counts} {area}')"
   ]
  },
  {
   "cell_type": "code",
   "execution_count": 6,
   "metadata": {},
   "outputs": [
    {
     "name": "stdout",
     "output_type": "stream",
     "text": [
      "e\n",
      "ll\n",
      "5\n"
     ]
    }
   ],
   "source": [
    "# 실행 해보기 5\n",
    "my_str = 'hello'\n",
    "\n",
    "# 인덱싱\n",
    "print(my_str[1]) \n",
    "\n",
    "# 슬라이싱\n",
    "print(my_str[2:4])\n",
    "\n",
    "# 길이\n",
    "print(len(my_str))"
   ]
  },
  {
   "cell_type": "code",
   "execution_count": 7,
   "metadata": {},
   "outputs": [
    {
     "name": "stdout",
     "output_type": "stream",
     "text": [
      "ll\n",
      "hel\n",
      "lo\n",
      "hlo\n",
      "olleh\n"
     ]
    }
   ],
   "source": [
    "# 실행 해보기 6\n",
    "my_str = 'hello'\n",
    "\n",
    "print(my_str[2:4])\n",
    "print(my_str[:3])\n",
    "print(my_str[3:])\n",
    "print(my_str[0:5:2])\n",
    "print(my_str[::-1])"
   ]
  },
  {
   "cell_type": "code",
   "execution_count": 9,
   "metadata": {},
   "outputs": [
    {
     "ename": "TypeError",
     "evalue": "'str' object does not support item assignment",
     "output_type": "error",
     "traceback": [
      "\u001b[1;31m---------------------------------------------------------------------------\u001b[0m",
      "\u001b[1;31mTypeError\u001b[0m                                 Traceback (most recent call last)",
      "Cell \u001b[1;32mIn[9], line 3\u001b[0m\n\u001b[0;32m      1\u001b[0m \u001b[38;5;66;03m# 실행 해보기 7\u001b[39;00m\n\u001b[0;32m      2\u001b[0m my_str \u001b[38;5;241m=\u001b[39m \u001b[38;5;124m'\u001b[39m\u001b[38;5;124mhello\u001b[39m\u001b[38;5;124m'\u001b[39m\n\u001b[1;32m----> 3\u001b[0m \u001b[43mmy_str\u001b[49m\u001b[43m[\u001b[49m\u001b[38;5;241;43m1\u001b[39;49m\u001b[43m]\u001b[49m \u001b[38;5;241m=\u001b[39m \u001b[38;5;124m'\u001b[39m\u001b[38;5;124mz\u001b[39m\u001b[38;5;124m'\u001b[39m\n",
      "\u001b[1;31mTypeError\u001b[0m: 'str' object does not support item assignment"
     ]
    }
   ],
   "source": [
    "# 실행 해보기 7\n",
    "my_str = 'hello'\n",
    "my_str[1] = 'z'"
   ]
  },
  {
   "cell_type": "markdown",
   "metadata": {},
   "source": [
    "#### 참고\n",
    "\n",
    "- 변수명 직관적으로 보일 수 있게 고려하기\n",
    "\n",
    "- 주석 \n",
    "    ```python\n",
    "\n",
    "    # 한 줄 주석 \n",
    "    \"\"\" \n",
    "    여러 줄 주석\n",
    "    \"\"\"\n",
    "    # ctrl + / 드래그 된 부분 주석처리\n",
    "    ```"
   ]
  },
  {
   "attachments": {},
   "cell_type": "markdown",
   "metadata": {},
   "source": [
    "\n",
    "### list `리스트`\n",
    "- 여러 개의 값을 순서대로 저장하는 변경 가능한 시퀀스 자료형\n",
    "\n",
    "#### 리스트 표현\n",
    "- 0개 이상의 객체를 포함하며 데이터 목록을 저장\n",
    "- 대괄호(`[]`)로 표기\n",
    "- 데이터는 어떤 자료형도 저장할 수 있음\n",
    "```python\n",
    "my_list_1 = []\n",
    "\n",
    "my_list_2 = [1, 'a', 3, 'b', 5]\n",
    "\n",
    "my_list_3 = [1, 2, 3, 'Python', ['hello', 'world', '!!!']]\n",
    "```\n"
   ]
  },
  {
   "attachments": {},
   "cell_type": "markdown",
   "metadata": {},
   "source": [
    "#### 리스트의 시퀀스 특징\n",
    "```python\n",
    "my_list = [1, 'a', 3, 'b', 5]\n",
    "\n",
    "# 인덱싱\n",
    "print(my_list[1])  # a\n",
    "\n",
    "# 슬라이싱\n",
    "print(my_list[2:4])  # [3, 'b']\n",
    "print(my_list[:3])  # [1, 'a', 3]\n",
    "print(my_list[3:])  # ['b', 5]\n",
    "print(my_list[0:5:2])  # [1, 3, 5]\n",
    "print(my_list[::-1])  # [5, 'b', 3, 'a', 1]\n",
    "\n",
    "# 길이\n",
    "print(len(my_list))  # 5\n",
    "```"
   ]
  },
  {
   "cell_type": "markdown",
   "metadata": {},
   "source": [
    "#### 중첩된 리스트 접근\n",
    "출력 값 예상해보기\n",
    "\n",
    "```python\n",
    "my_list = [1, 2, 3, 'Python', ['hello', 'world', '!!!']]\n",
    "print(len(my_list))  # 5\n",
    "print(my_list[4][-1])  # !!!\n",
    "print(my_list[-1][1][0])  # w\n",
    "```\n"
   ]
  },
  {
   "attachments": {},
   "cell_type": "markdown",
   "metadata": {},
   "source": [
    "#### 리스트는 가변 (변경 가능)\n",
    "```python\n",
    "my_list = [1, 2, 3]\n",
    "my_list[0] = 100\n",
    "\n",
    "print(my_list)  # [100, 2, 3]\n",
    "```"
   ]
  },
  {
   "attachments": {},
   "cell_type": "markdown",
   "metadata": {},
   "source": [
    "#### 실행 해보기"
   ]
  },
  {
   "cell_type": "code",
   "execution_count": null,
   "metadata": {},
   "outputs": [],
   "source": [
    "# 실행 해보기 1\n",
    "my_list = [1, 'a', 3, 'b', 5]\n",
    "\n",
    "# 인덱싱\n",
    "print(my_list[1]) \n",
    "\n",
    "# 슬라이싱\n",
    "print(my_list[2:4]) \n",
    "print(my_list[:3]) \n",
    "print(my_list[3:]) \n",
    "print(my_list[0:5:2]) \n",
    "print(my_list[::-1]) \n",
    "\n",
    "# 길이\n",
    "print(len(my_list)) "
   ]
  },
  {
   "cell_type": "code",
   "execution_count": null,
   "metadata": {},
   "outputs": [],
   "source": [
    "# 실행 해보기 2\n",
    "my_list = [1, 2, 3, 'Python', ['hello', 'world', '!!!']]\n",
    "\n",
    "print(len(my_list))\n",
    "print(my_list[4][-1])\n",
    "print(my_list[-1][1][0])"
   ]
  },
  {
   "cell_type": "code",
   "execution_count": null,
   "metadata": {},
   "outputs": [],
   "source": [
    "# 실행 해보기 3\n",
    "my_list = [1, 2, 3]\n",
    "my_list[0] = 100\n",
    "\n",
    "print(my_list)"
   ]
  },
  {
   "attachments": {},
   "cell_type": "markdown",
   "metadata": {},
   "source": [
    "### tuple `튜플`\n",
    "- 여러 개의 값을 순서대로 저장하는 변경 불가능한 시퀀스 자료형\n"
   ]
  },
  {
   "attachments": {},
   "cell_type": "markdown",
   "metadata": {},
   "source": [
    "#### 튜플 표현\n",
    "- 0개 이상의 객체를 포함하며 데이터 목록을 저장\n",
    "- 소괄호(`()`)로 표기\n",
    "- 데이터는 어떤 자료형도 저장할 수 있음\n",
    "\n",
    "    ```python\n",
    "    my_tuple_1 = ()\n",
    "\n",
    "    my_tuple_2 = (1,)\n",
    "\n",
    "    my_tuple_3 = (1, 'a', 3, 'b', 5)\n",
    "    ```"
   ]
  },
  {
   "attachments": {},
   "cell_type": "markdown",
   "metadata": {},
   "source": [
    "#### 튜플의 시퀀스 특징\n",
    "```python\n",
    "my_tuple = (1, 'a', 3, 'b', 5)\n",
    "\n",
    "# 인덱싱\n",
    "print(my_tuple[1])  # a\n",
    "\n",
    "# 슬라이싱\n",
    "print(my_tuple[2:4])  # (3, 'b')\n",
    "print(my_tuple[:3])  # (1, 'a', 3)\n",
    "print(my_tuple[3:])  # ('b', 5)\n",
    "print(my_tuple[0:5:2])  # (1, 3, 5)\n",
    "print(my_tuple[::-1])  # (5, 'b', 3, 'a', 1)\n",
    "\n",
    "# 길이\n",
    "print(len(my_tuple))  # 5\n",
    "```"
   ]
  },
  {
   "attachments": {},
   "cell_type": "markdown",
   "metadata": {},
   "source": [
    "#### 튜플은 불변(변경 불가)\n",
    "```python\n",
    "my_tuple = (1, 'a', 3, 'b', 5)\n",
    "\n",
    "# TypeError: 'tuple' object does not support item assignment\n",
    "my_tuple[1] = 'z'\n",
    "```"
   ]
  },
  {
   "attachments": {},
   "cell_type": "markdown",
   "metadata": {},
   "source": [
    "#### 튜플은 어디에 쓰일까?\n",
    "- 튜플의 불변 특성을 사용한 안전하게 여러 개의 값을 전달, 그룹화, 다중 할당 등\n",
    "- 개발자가 직접 사용하기 보다 ‘파이썬 내부 동작’에서 주로 사용됨\n",
    "\n",
    "    ```python\n",
    "    x, y = (10, 20)\n",
    "\n",
    "    print(x)  # 10\n",
    "    print(y)  # 20\n",
    "\n",
    "    # 파이썬은 쉼표를 튜플 생성자로 사용하니 괄호는 생략 가능\n",
    "    x, y = 10, 20\n",
    "    ```"
   ]
  },
  {
   "attachments": {},
   "cell_type": "markdown",
   "metadata": {},
   "source": [
    "#### 실행 해보기"
   ]
  },
  {
   "cell_type": "code",
   "execution_count": null,
   "metadata": {},
   "outputs": [],
   "source": [
    "# 실행 해보기 1\n",
    "my_tuple = (1, 'a', 3, 'b', 5)\n",
    "\n",
    "# 인덱싱\n",
    "print(my_tuple[1])  \n",
    "\n",
    "# 슬라이싱\n",
    "print(my_tuple[2:4]) \n",
    "print(my_tuple[:3]) \n",
    "print(my_tuple[3:]) \n",
    "print(my_tuple[0:5:2]) \n",
    "print(my_tuple[::-1]) \n",
    "\n",
    "# 길이\n",
    "print(len(my_tuple)) \n"
   ]
  },
  {
   "cell_type": "code",
   "execution_count": null,
   "metadata": {},
   "outputs": [],
   "source": [
    "# 실행 해보기 2\n",
    "my_tuple = (1, 'a', 3, 'b', 5)\n",
    " \n",
    "my_tuple[1] = 'z'\n"
   ]
  },
  {
   "attachments": {},
   "cell_type": "markdown",
   "metadata": {},
   "source": [
    "### range\n",
    " - 연속된 정수 시퀀스를 생성하는 변경 불가능한 자료형"
   ]
  },
  {
   "cell_type": "markdown",
   "metadata": {},
   "source": [
    "#### range 표현 1\n",
    "- `range(시작 값, 끝 값, 증가 값)`\n",
    "- `range(n)`\n",
    "    - 0부터 n-1까지의 숫자의 시퀀스\n",
    "- `range(n, m) `\n",
    "    - n부터 m-1까지의 숫자 시퀀스\n",
    "\n",
    "    ```python\n",
    "    my_range_1 = range(5)\n",
    "    my_range_2 = range(1, 10)\n",
    "\n",
    "    print(my_range_1)  # range(0, 5)\n",
    "    print(my_range_2)  # range(1, 10)\n",
    "    ```\n",
    "\n",
    "#### range 특징\n",
    "- 증가 값이 없으면 1씩 증가\n",
    "- 증가 값이 음수이면 감소 / 증가 값이 양수이면 증가\n",
    "- 증가 값이 0이면 에러\n",
    "- 증가 값이 음수이면 시작 값이 끝 값보다 작아야 함\n",
    "- 증가 값이 양수이면 시작 값이 끝 값보다 커야 함"
   ]
  },
  {
   "cell_type": "markdown",
   "metadata": {},
   "source": [
    "#### ragne 표현 2\n",
    "- 주료 반복문과 함께 사용 예정\n",
    "\n",
    "```python\n",
    "# 리스트로 형 변환 시 데이터 확인 가능\n",
    "print(list(range(5)))   # [0, 1, 2, 3, 4]\n",
    "print(list(range(1, 10)))  # [1, 2, 3, 4, 5, 6, 7, 8, 9]\n",
    "\n",
    "# 반복문과 함께 활용\n",
    "for i in range(1, 10):\n",
    "    print(i)  # 1 2 3 4 5 6 7 8 9\n",
    "for i in range(1, 10, 2):\n",
    "    print(i)  # 1 3 5 7 9\n",
    "```"
   ]
  },
  {
   "attachments": {},
   "cell_type": "markdown",
   "metadata": {},
   "source": [
    "#### 실행 해보기"
   ]
  },
  {
   "cell_type": "code",
   "execution_count": null,
   "metadata": {},
   "outputs": [],
   "source": [
    "# 실행 해보기 1\n",
    "my_range_1 = range(5)\n",
    "my_range_2 = range(1, 10)\n",
    "\n",
    "print(my_range_1)\n",
    "print(my_range_2)\n"
   ]
  },
  {
   "cell_type": "code",
   "execution_count": null,
   "metadata": {},
   "outputs": [],
   "source": [
    "# 실행 해보기 2\n",
    "my_range_1 = range(5)\n",
    "my_range_2 = range(1, 10)\n",
    "\n",
    "print(my_range_1)\n",
    "print(my_range_2)\n",
    "\n",
    "# 리스트로 형 변환 시 데이터 확인 가능\n",
    "\n",
    "print(list(my_range_1))\n",
    "print(list(my_range_2))\n"
   ]
  },
  {
   "attachments": {},
   "cell_type": "markdown",
   "metadata": {},
   "source": [
    "## Non-sequence Types"
   ]
  },
  {
   "attachments": {},
   "cell_type": "markdown",
   "metadata": {},
   "source": [
    "### dict `딕셔너리`\n",
    "- key - value 쌍으로 이루어진 순서와 중복이 없는 변경 가능한 자료형"
   ]
  },
  {
   "attachments": {},
   "cell_type": "markdown",
   "metadata": {},
   "source": [
    "#### 딕셔너리 표현\n",
    "- key는 변경 불가능한 자료형만 사용 가능 (str, int, float, tuple, range …)\n",
    "- value는 모든 자료형 사용 가능\n",
    "- 중괄호(`{}`)로 표기\n",
    "\n",
    "    ```python\n",
    "    my_dict_1 = {}\n",
    "    my_dict_2 = {'key': 'value'}\n",
    "    my_dict_3 = {'apple': 12, 'list': [1, 2, 3]}\n",
    "\n",
    "    print(my_dict_1)  # {}\n",
    "    print(my_dict_2)  # {'key': 'value'}\n",
    "    print(my_dict_3)  # {'apple': 12, 'list': [1, 2, 3]}\n",
    "    ```"
   ]
  },
  {
   "cell_type": "markdown",
   "metadata": {},
   "source": [
    "#### 딕셔너리 사용\n",
    "- key를 통해 value에 접근\n",
    "\n",
    "    ```python\n",
    "    my_dict = {'apple': 12, 'list': [1, 2, 3]}\n",
    "    print(my_dict['apple'])  # 12\n",
    "    print(my_dict['list'])  # [1, 2, 3]\n",
    "\n",
    "    # 추가\n",
    "    my_dict['banana'] = 50\n",
    "    print(my_dict) # {'apple': 12, 'list': [1, 2, 3], 'banana': 50}\n",
    "\n",
    "    # 변경\n",
    "    my_dict['apple'] = 100\n",
    "    print(my_dict) # {'apple': 100, 'list': [1, 2, 3], 'banana': 50}\n",
    "    ```"
   ]
  },
  {
   "attachments": {},
   "cell_type": "markdown",
   "metadata": {},
   "source": [
    "#### 실행 해보기"
   ]
  },
  {
   "cell_type": "code",
   "execution_count": null,
   "metadata": {},
   "outputs": [],
   "source": [
    "# 실행 해보기 1\n",
    "my_dict_1 = {}\n",
    "my_dict_2 = {'key': 'value'}\n",
    "my_dict_3 = {'apple': 12, 'list': [1, 2, 3]}\n",
    "\n",
    "print(my_dict_1)\n",
    "print(my_dict_2)\n",
    "print(my_dict_3)"
   ]
  },
  {
   "cell_type": "code",
   "execution_count": null,
   "metadata": {},
   "outputs": [],
   "source": [
    "# 실행 해보기 2\n",
    "my_dict = {'apple': 12, 'list': [1, 2, 3]}\n",
    "\n",
    "print(my_dict['apple'])\n",
    "print(my_dict['list']) \n",
    "\n",
    "# 값 변경\n",
    "my_dict['apple'] = 100\n",
    "print(my_dict)"
   ]
  },
  {
   "attachments": {},
   "cell_type": "markdown",
   "metadata": {},
   "source": [
    "### set `세트`\n",
    "- 순서와 중복이 없는 변경 가능한 자료형\n"
   ]
  },
  {
   "attachments": {},
   "cell_type": "markdown",
   "metadata": {},
   "source": [
    "#### 세트 표현\n",
    "- 수학에서의 집합과 동일한 연산 처리 가능\n",
    "- 중괄호(`{}`)로 표기\n",
    "\n",
    "    ```python\n",
    "    my_set_1 = set()\n",
    "    my_set_2 = {1, 2, 3}\n",
    "    my_set_3 = {1, 1, 1}\n",
    "\n",
    "    print(my_set_1)  # set()\n",
    "    print(my_set_2)  # {1, 2, 3}\n",
    "    print(my_set_3)  # {1}\n",
    "    ```"
   ]
  },
  {
   "attachments": {},
   "cell_type": "markdown",
   "metadata": {},
   "source": [
    "#### 세트의 집합 연산\n",
    "```python\n",
    "my_set_1 = {1, 2, 3}\n",
    "my_set_2 = {3, 6, 9}\n",
    "\n",
    "# 합집합\n",
    "print(my_set_1 | my_set_2)  # {1, 2, 3, 6, 9}\n",
    "\n",
    "# 차집합\n",
    "print(my_set_1 - my_set_2)  # {1, 2}\n",
    "\n",
    "# 교집합\n",
    "print(my_set_1 & my_set_2)  # {3}\n",
    "```\n"
   ]
  },
  {
   "attachments": {},
   "cell_type": "markdown",
   "metadata": {},
   "source": [
    "#### 실행 해보기"
   ]
  },
  {
   "cell_type": "code",
   "execution_count": null,
   "metadata": {},
   "outputs": [],
   "source": [
    "# 실행 해보기 1\n",
    "my_set_1 = set()\n",
    "my_set_2 = {1, 2, 3}\n",
    "my_set_3 = {1, 1, 1}\n",
    "\n",
    "print(my_set_1)\n",
    "print(my_set_2)\n",
    "print(my_set_3)"
   ]
  },
  {
   "cell_type": "code",
   "execution_count": null,
   "metadata": {},
   "outputs": [],
   "source": [
    "# 실행 해보기 2\n",
    "my_set_1 = {1, 2, 3}\n",
    "my_set_2 = {3, 6, 9}\n",
    "\n",
    "# 합집합\n",
    "print(my_set_1 | my_set_2)\n",
    "\n",
    "# 차집합\n",
    "print(my_set_1 - my_set_2)\n",
    "\n",
    "# 교집합\n",
    "print(my_set_1 & my_set_2)"
   ]
  },
  {
   "attachments": {},
   "cell_type": "markdown",
   "metadata": {},
   "source": [
    "## Other Types\n",
    "### None\n",
    "- 파이썬에서 ‘값이 없음’을 표현하는 자료형\n",
    "\n",
    "#### None 표현\n",
    "```python\n",
    "variable = None\n",
    "\n",
    "print(variable)  # None\n",
    "```"
   ]
  },
  {
   "attachments": {},
   "cell_type": "markdown",
   "metadata": {},
   "source": [
    "### Boolean\n",
    "- 참(True)과 거짓(False)을 표현하는 자료형\n",
    "\n",
    "#### 불리언 표현\n",
    "- 비교 / 논리 연산의 평가 결과로 사용됨\n",
    "- 주로 조건 / 반복문과 함께 사용\n",
    "\n",
    "    ```python\n",
    "    bool_1 = True\n",
    "    bool_2 = False\n",
    "\n",
    "    print(bool_1)  # True\n",
    "    print(bool_2)  # False\n",
    "    print(3 > 1)  # True\n",
    "    print('3' != 3)  # True\n",
    "    ```"
   ]
  },
  {
   "attachments": {},
   "cell_type": "markdown",
   "metadata": {},
   "source": [
    "#### 실행 해보기"
   ]
  },
  {
   "cell_type": "code",
   "execution_count": null,
   "metadata": {},
   "outputs": [],
   "source": [
    "# 실행 해보기 1\n",
    "variable = None\n",
    "\n",
    "print(variable)"
   ]
  },
  {
   "cell_type": "code",
   "execution_count": null,
   "metadata": {},
   "outputs": [],
   "source": [
    "# 실행 해보기 2\n",
    "bool_1 = True\n",
    "bool_2 = False\n",
    "\n",
    "print(bool_1)\n",
    "print(bool_2)\n",
    "print(3 > 1) \n",
    "print('3' != 3) "
   ]
  },
  {
   "attachments": {},
   "cell_type": "markdown",
   "metadata": {},
   "source": [
    "## Collection\n",
    "### Collection\n",
    "- 여러 개의 항목 또는 요소를 담는 자료 구조\n",
    "- str, list, tuple, set, dict\n"
   ]
  },
  {
   "attachments": {},
   "cell_type": "markdown",
   "metadata": {},
   "source": [
    "#### 컬렉션 정리\n",
    "|     컬렉션    \t|     변경 가능 여부    \t|     순서 여부    \t|          \t|\n",
    "|:-------------:\t|:---------------------:\t|:----------------:\t|:--------:\t|\n",
    "|       str     \t|            X          \t|         O        \t|  시퀀스  \t|\n",
    "|      list     \t|            O          \t|         O        \t|  시퀀스  \t|\n",
    "|      tuple    \t|            X          \t|         O        \t|  시퀀스  \t|\n",
    "|       dict     \t|            O          \t|         X        \t| 비시퀀스 \t|\n",
    "|      set     \t|            O          \t|         X        \t| 비시퀀스 \t|"
   ]
  },
  {
   "attachments": {},
   "cell_type": "markdown",
   "metadata": {},
   "source": [
    "#### 불변과 가변의 차이 (1/2)\n",
    "```python\n",
    "my_str = 'hello'\n",
    "# TypeError: 'str' object does not support item assignment\n",
    "my_str[0] = 'z'\n",
    "\n",
    "my_list = [1, 2, 3]\n",
    "my_list[0] = 100\n",
    "# [100, 2, 3]\n",
    "print(my_list)\n",
    "```"
   ]
  },
  {
   "attachments": {},
   "cell_type": "markdown",
   "metadata": {},
   "source": [
    "#### 불변과 가변의 차이 (2/2)\n",
    "![image](https://github.com/ragu6963/TIL/assets/32388270/b6dca7db-4a13-4e75-843b-cbc8badf3691)\n"
   ]
  }
 ],
 "metadata": {
  "kernelspec": {
   "display_name": "Python 3",
   "language": "python",
   "name": "python3"
  },
  "language_info": {
   "codemirror_mode": {
    "name": "ipython",
    "version": 3
   },
   "file_extension": ".py",
   "mimetype": "text/x-python",
   "name": "python",
   "nbconvert_exporter": "python",
   "pygments_lexer": "ipython3",
   "version": "3.9.13"
  },
  "orig_nbformat": 4
 },
 "nbformat": 4,
 "nbformat_minor": 2
}
